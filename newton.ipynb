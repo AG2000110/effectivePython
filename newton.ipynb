{
 "cells": [
  {
   "cell_type": "code",
   "execution_count": 1,
   "id": "3bc732c4",
   "metadata": {},
   "outputs": [
    {
     "name": "stderr",
     "output_type": "stream",
     "text": [
      "usage: ipykernel_launcher.py [-h] [-x0 X0] [-h1 H1] [-max_iter MAX_ITER] [-tol TOL] function\n",
      "ipykernel_launcher.py: error: unrecognized arguments: -f\n"
     ]
    },
    {
     "ename": "SystemExit",
     "evalue": "2",
     "output_type": "error",
     "traceback": [
      "An exception has occurred, use %tb to see the full traceback.\n",
      "\u001b[1;31mSystemExit\u001b[0m\u001b[1;31m:\u001b[0m 2\n"
     ]
    },
    {
     "name": "stderr",
     "output_type": "stream",
     "text": [
      "C:\\Users\\aleks\\anaconda3\\lib\\site-packages\\IPython\\core\\interactiveshell.py:3513: UserWarning: To exit: use 'exit', 'quit', or Ctrl-D.\n",
      "  warn(\"To exit: use 'exit', 'quit', or Ctrl-D.\", stacklevel=1)\n"
     ]
    }
   ],
   "source": [
    "#Zadanie 1 \n",
    "\n",
    "import sympy as sp\n",
    "import argparse\n",
    "\n",
    "\n",
    "def newton(f, x0, h, max_iter, tol):\n",
    "    x = sp.symbols('x')\n",
    "    pochodna = sp.diff(f, x)\n",
    "    xn = x0\n",
    "    for i in range(max_iter):\n",
    "        fxn = f.subs(x,xn)\n",
    "        if abs(fxn) < tol:\n",
    "            return xn\n",
    "        dfxn = pochodna.subs(x,xn)\n",
    "        if dfxn == 0:\n",
    "            return None\n",
    "        xn = xn - fxn/dfxn\n",
    "    return None\n",
    "    \n",
    "def main():\n",
    "    parser = argparse.ArgumentParser(description='Find the root of a function using Newton\\'s method.')\n",
    "    parser.add_argument('function', type=str, help='The function to find the root of.')\n",
    "    parser.add_argument('-x0', type=float, default=0.0, help='The initial guess for the root.')\n",
    "    parser.add_argument('-h1', type=float, default=0.001, help='The step size for the derivative.')\n",
    "    parser.add_argument('-max_iter', type=int, default=1000, help='The maximum number of iterations.')\n",
    "    parser.add_argument('-tol', type=float, default=1e-6, help='The tolerance for the root.')\n",
    "    args = parser.parse_args()\n",
    "    \n",
    "    \n",
    "    x = sp.symbols('x')\n",
    "    f = sp.sympify(args.function)\n",
    "    root = newton(f, args.x0, args.h1, args.max_iter, args.tol)\n",
    "    if root is not None:\n",
    "        print(f'The root of the function is {root}.')\n",
    "\n",
    "if __name__ == '__main__':\n",
    "    main()"
   ]
  },
  {
   "cell_type": "code",
   "execution_count": null,
   "id": "37bece37",
   "metadata": {},
   "outputs": [],
   "source": []
  }
 ],
 "metadata": {
  "kernelspec": {
   "display_name": "Python 3 (ipykernel)",
   "language": "python",
   "name": "python3"
  },
  "language_info": {
   "codemirror_mode": {
    "name": "ipython",
    "version": 3
   },
   "file_extension": ".py",
   "mimetype": "text/x-python",
   "name": "python",
   "nbconvert_exporter": "python",
   "pygments_lexer": "ipython3",
   "version": "3.9.13"
  }
 },
 "nbformat": 4,
 "nbformat_minor": 5
}
