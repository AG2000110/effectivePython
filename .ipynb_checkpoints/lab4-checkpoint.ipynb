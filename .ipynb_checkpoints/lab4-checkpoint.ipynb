{
 "cells": [
  {
   "cell_type": "code",
   "execution_count": 1,
   "id": "e5738adb",
   "metadata": {},
   "outputs": [
    {
     "name": "stdout",
     "output_type": "stream",
     "text": [
      "0.167 kg per second\n"
     ]
    }
   ],
   "source": [
    "#Zadanie 1\n",
    "\n",
    "def flow_rate(weight, time):\n",
    "    \"\"\" Funkcja wylicza ile wagi produktu przybyło/ubyło w jednostce czasu \"\"\"\n",
    "    return weight / time\n",
    "\n",
    "weight = 0.5\n",
    "time = 3\n",
    "flow = flow_rate(weight, time)\n",
    "print(\"{0:.3} kg per second\".format(flow))"
   ]
  },
  {
   "cell_type": "code",
   "execution_count": 4,
   "id": "576e58f1",
   "metadata": {},
   "outputs": [],
   "source": [
    "def flow_rate(weight, time, period=60, units_per_kg=1000):\n",
    "    \"\"\" Funkcja wylicza ile wagi produktu przybyło/ubyło w jednostce czasu \"\"\"\n",
    "    \n",
    "    return (weight / time) * period * units_per_kg"
   ]
  },
  {
   "cell_type": "code",
   "execution_count": 7,
   "id": "bf853f90",
   "metadata": {},
   "outputs": [
    {
     "name": "stdout",
     "output_type": "stream",
     "text": [
      "10000.0 grams per minute\n",
      "0.167 kg per second\n",
      "1e+04 grams per minute\n"
     ]
    }
   ],
   "source": [
    "flow = flow_rate(weight, time, period=60, units_per_kg=1000)\n",
    "print(\"{} grams per minute\".format(flow))\n",
    "flow = flow_rate(weight, time, period=1, units_per_kg=1)\n",
    "print(\"{0:.3} kg per second\".format(flow))\n",
    "flow = flow_rate(weight, time)\n",
    "print(\"{0:.3} grams per minute\".format(flow))"
   ]
  },
  {
   "cell_type": "code",
   "execution_count": 10,
   "id": "02fbd6a8",
   "metadata": {},
   "outputs": [],
   "source": [
    "try:\n",
    "    flow = flow_rate(weight, time, 3600, 2.2)\n",
    "except TypeError:\n",
    "    print(True)"
   ]
  },
  {
   "cell_type": "code",
   "execution_count": 22,
   "id": "9865e753",
   "metadata": {},
   "outputs": [
    {
     "name": "stdout",
     "output_type": "stream",
     "text": [
      "Function squares_list took: 0.486661434173584 seconds\n",
      "Function squares_comprehension took: 0.4287593364715576 seconds\n",
      "Function squares_map took: 0.0 seconds\n",
      "Function foo took: 0.0 seconds\n",
      "4\n"
     ]
    }
   ],
   "source": [
    "#Zadanie 2\n",
    "\n",
    "import time\n",
    "\n",
    "def timeit(func):\n",
    "    \"\"\" Wypisuje czas wywołania udekorowanej funckji \"\"\"\n",
    "    def wrapper(*args, **kwargs):\n",
    "        start = time.time()\n",
    "        result = func(*args, **kwargs)\n",
    "        end = time.time()\n",
    "        print(f\"Function {func.__name__} took: {end - start} seconds\")\n",
    "        return result\n",
    "    return wrapper\n",
    "    pass\n",
    "\n",
    "@timeit\n",
    "def squares_list(n):\n",
    "    squares = []\n",
    "    for i in range(n):\n",
    "        squares.append(i ** 2)\n",
    "    return squares\n",
    "\n",
    "@timeit\n",
    "def squares_comprehension(n):\n",
    "    return [i ** 2 for i in range(n)]\n",
    "\n",
    "@timeit\n",
    "def squares_map(n):\n",
    "    return map(lambda x: x**2, range(n))\n",
    "\n",
    "n = 1000000\n",
    "l = squares_list(n)\n",
    "c = squares_comprehension(n)\n",
    "m = squares_map(n)\n",
    "\n",
    "\n",
    "@timeit\n",
    "def foo(x):\n",
    "    return x**2\n",
    "\n",
    "r = foo(2)\n",
    "print(r)"
   ]
  },
  {
   "cell_type": "code",
   "execution_count": null,
   "id": "641284a8",
   "metadata": {},
   "outputs": [],
   "source": []
  }
 ],
 "metadata": {
  "kernelspec": {
   "display_name": "Python 3 (ipykernel)",
   "language": "python",
   "name": "python3"
  },
  "language_info": {
   "codemirror_mode": {
    "name": "ipython",
    "version": 3
   },
   "file_extension": ".py",
   "mimetype": "text/x-python",
   "name": "python",
   "nbconvert_exporter": "python",
   "pygments_lexer": "ipython3",
   "version": "3.9.13"
  }
 },
 "nbformat": 4,
 "nbformat_minor": 5
}
