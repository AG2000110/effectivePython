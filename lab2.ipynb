{
 "cells": [
  {
   "cell_type": "code",
   "execution_count": 22,
   "id": "bd064ad5",
   "metadata": {},
   "outputs": [
    {
     "name": "stdout",
     "output_type": "stream",
     "text": [
      "True\n",
      "True\n",
      "True\n",
      "True\n"
     ]
    }
   ],
   "source": [
    "#Zadanie 1\n",
    "\n",
    "def check_anagram(first, second):\n",
    "    \"\"\" Sprawdza czy podane wyrazy są anagramami \"\"\"\n",
    "    first = first.replace(\" \",\"\").lower()\n",
    "    second = second.replace(\" \",\"\").lower()\n",
    "    if len(first) != len(second):\n",
    "        return False\n",
    "    \n",
    "    slownik = {}\n",
    "    \n",
    "    for litera in first:\n",
    "        if litera in slownik:\n",
    "            slownik[litera] = slownik[litera] + 1\n",
    "        else:\n",
    "            slownik[litera] = 1\n",
    "            \n",
    "    for litera in second:\n",
    "        if litera in slownik:\n",
    "            slownik[litera] = slownik[litera] - 1\n",
    "        else:\n",
    "            return False \n",
    "    \n",
    "    for x in slownik.values():\n",
    "        if x !=0:\n",
    "            return False\n",
    "    \n",
    "    return True\n",
    "\n",
    "    pass\n",
    "\n",
    "print(check_anagram(\"abcd\", \"dcba\") == True)\n",
    "print(check_anagram(\"aba\", \"baa\") == True)\n",
    "print(check_anagram(\"aba\", \"ba\") == False)\n",
    "print(check_anagram(\"tom marvolo riddle \", \"i am lord voldemort\") == True)\n"
   ]
  },
  {
   "cell_type": "code",
   "execution_count": 23,
   "id": "afc57957",
   "metadata": {},
   "outputs": [
    {
     "name": "stdout",
     "output_type": "stream",
     "text": [
      "True\n",
      "True\n"
     ]
    }
   ],
   "source": [
    "#Zadanie 2\n",
    "\n",
    "def gaderypoluki(text, key):\n",
    "    \"\"\"\n",
    "    Funkcja powinna szyfrować (lub odszyfrować) tekst szyfrem GADERYPOLUKI (lub podobnym)\n",
    "    https://pl.wikipedia.org/wiki/Gaderypoluki\n",
    "    \"\"\"\n",
    "    key = key.lower()\n",
    "    text = text.lower()\n",
    "    slownik = {}\n",
    "    for litera in range(0, len(key), 2):\n",
    "        if litera!=len(key)-1:\n",
    "            slownik[key[litera]] = key[litera+1]\n",
    "        \n",
    "    for litera in range(1, len(key), 2):\n",
    "        if litera!=len(key):\n",
    "            slownik[key[litera]] = key[litera-1]\n",
    "    \n",
    "    new_text = \"\"\n",
    "    for litera in range(len(text)):\n",
    "        if text[litera] in slownik:\n",
    "            new_text += slownik[text[litera]]\n",
    "        else:\n",
    "            new_text += text[litera]\n",
    "            \n",
    "    return new_text\n",
    "    \n",
    "    pass\n",
    "\n",
    "print(gaderypoluki('Ala ma kota', 'GADERYPOLUKI') == 'gug mg iptg')\n",
    "print(gaderypoluki('gug mg iptg', 'GADERYPOLUKI') == 'ala ma kota')"
   ]
  },
  {
   "cell_type": "code",
   "execution_count": 24,
   "id": "84451de9",
   "metadata": {},
   "outputs": [
    {
     "name": "stdout",
     "output_type": "stream",
     "text": [
      "True\n",
      "True\n",
      "True\n",
      "True\n"
     ]
    }
   ],
   "source": [
    "#Zadanie 3\n",
    "\n",
    "def even_numbers_from_list(data):\n",
    "    \"\"\"Zwraca podlistę \"data\" zawierającą wyłącznie parzyste liczby\"\"\"\n",
    "#    result = []\n",
    "#    for point in data:\n",
    "#        if point % 2 == 0:\n",
    "#            result.append(point)\n",
    "#    return result\n",
    "\n",
    "    return [x for x in data if x%2 ==0]\n",
    "\n",
    "print(even_numbers_from_list([1, 2, 3, 4]) == [2, 4])\n",
    "print(even_numbers_from_list(range(10)) == list(range(0, 10, 2)))\n",
    "print(even_numbers_from_list(range(1000)) == list(range(0, 1000, 2)))\n",
    "print(even_numbers_from_list([10, 2, 3, 4, 6, -3, -4]) == [10, 2, 4, 6, -4])\n"
   ]
  },
  {
   "cell_type": "code",
   "execution_count": 25,
   "id": "a33c837f",
   "metadata": {},
   "outputs": [
    {
     "name": "stdout",
     "output_type": "stream",
     "text": [
      "True\n",
      "True\n"
     ]
    }
   ],
   "source": [
    "def words_analyze(words):\n",
    "    \"\"\"Zwraca listę trójek, gdzie i'ta trójka to (i, i'te słowo, długość i'tego słowa)\"\"\"\n",
    "#    result = []\n",
    "#    i = 0\n",
    "#    for word in words:\n",
    "#        result.append((i, word, len(word)))\n",
    "#        i += 1\n",
    "#    return result\n",
    "\n",
    "    return [(i, word, len(word)) for i, word in enumerate(words)]\n",
    "\n",
    "print(words_analyze(['tomek', 'jadzia']) == [(0, 'tomek', 5), (1, 'jadzia', 6)])\n",
    "print(words_analyze([]) == [])"
   ]
  },
  {
   "cell_type": "code",
   "execution_count": 26,
   "id": "57aacc32",
   "metadata": {},
   "outputs": [
    {
     "name": "stdout",
     "output_type": "stream",
     "text": [
      "True\n",
      "True\n",
      "True\n"
     ]
    }
   ],
   "source": [
    "def count_words_starting_with_given_letter(text, letter):\n",
    "    \"\"\"Zwraca słownik gdzie kluczami są wszystkie słowa występujące w tekście \n",
    "    rozpoczynające się na zadaną literę, a wartością ile razy wystąpiy\"\"\"\n",
    "#    result = {}\n",
    "#    for word in text.split():\n",
    "#        if word[0] == letter:\n",
    "#            if word not in result:\n",
    "#                result[word] = 1\n",
    "#            else:\n",
    "#                result[word] += 1\n",
    "#    return result\n",
    "\n",
    "    return {word: text.split().count(word) for word in text.split() if word[0] == letter}\n",
    "\n",
    "print(count_words_starting_with_given_letter('ola ma kota o imieniu ola', 'o') == {'ola': 2, 'o': 1})\n",
    "print(count_words_starting_with_given_letter('ola ma kota o imieniu ola', 'k') == {'kota': 1})\n",
    "print(count_words_starting_with_given_letter('ola ma kota o imieniu ola', 'x') == {})"
   ]
  },
  {
   "cell_type": "code",
   "execution_count": 27,
   "id": "b3beca57",
   "metadata": {},
   "outputs": [
    {
     "name": "stdout",
     "output_type": "stream",
     "text": [
      "True\n",
      "True\n",
      "True\n"
     ]
    }
   ],
   "source": [
    "#Zadanie 4\n",
    "\n",
    "def merge_dicts(a, b, f):\n",
    "    '''\n",
    "    Funkcja przyjmuje:\n",
    "    - dwa słowniki a i b\n",
    "    - dwuargumentową funkcję f\n",
    "    Funkcja jako wynik powinna zwrócić słownik, który będzie sumą dwóch słowników.\n",
    "    Sumę dwóch słowników powinniśmy rozumieć jako słownik, w którym zbiór kluczy będzie równy\n",
    "    sumie zbiorów kluczy ze słowników a i b. Gdy jakiś klucz występuje w obu słownikach, to wartość ma być\n",
    "    wynikiem funkcji f obliczonej na wartościach dla danego klucza w słowniku a i słowniku b\n",
    "    '''\n",
    "    new_dick = {}\n",
    "    for elem in set(a.keys()).union(b.keys()):\n",
    "        return {key: f(a.get(key, 0), b.get(key, 0)) for key in set(a).union(b)}\n",
    "\n",
    "\n",
    "def add(a,b):\n",
    "    return a + b\n",
    "\n",
    "\n",
    "print(merge_dicts({'a': 1}, {'b': 1}, add) == {'b': 1, 'a': 1})\n",
    "print(merge_dicts({'a': 1, 'b': 2}, {'b': 1}, add) == {'b': 3, 'a': 1})\n",
    "print(merge_dicts({'a': 1, 'b': 2}, {'b': 1, 'c': 3, 'a': 7}, add) == {'c': 3, 'b': 3, 'a': 8})\n",
    "\n",
    "\n"
   ]
  },
  {
   "cell_type": "code",
   "execution_count": 28,
   "id": "0db5dd11",
   "metadata": {},
   "outputs": [
    {
     "name": "stdout",
     "output_type": "stream",
     "text": [
      "True\n",
      "True\n",
      "True\n"
     ]
    }
   ],
   "source": [
    "#Zadanie 5\n",
    "\n",
    "from math import sqrt\n",
    "\n",
    "def primes(N):\n",
    "    \"\"\"Zwraca zbiór liczb pierwszych od 0 do N włącznie\"\"\"\n",
    "    \n",
    "    return {x for x in range(2, N+1) if all(x % i != 0 for i in range(2, int(sqrt(x))+1))}\n",
    "    pass\n",
    "    \n",
    "print(primes(5) == {2, 3, 5})\n",
    "print(primes(10) == {2, 3, 5, 7})\n",
    "print(primes(100) == {2, 3, 5, 7, 11, 13, 17, 19, 23, 29, 31, 37, 41, 43, 47, 53, 59, 61, 67, 71, 73, 79, 83, 89, 97})"
   ]
  },
  {
   "cell_type": "code",
   "execution_count": 29,
   "id": "2e4a38fc",
   "metadata": {},
   "outputs": [
    {
     "name": "stdout",
     "output_type": "stream",
     "text": [
      "True\n",
      "True\n"
     ]
    }
   ],
   "source": [
    "#Zadanie 6\n",
    "\n",
    "def func1(n):\n",
    "    \"\"\"wypisze wszystkie pary (x,y) gdzie 0 < x < n oraz 0 < y < n\"\"\"\n",
    "    return [(x,y) for x in range(n) for y in range(n)]\n",
    "    pass\n",
    "\n",
    "\n",
    "print(func1(3)==[(0, 0), (0, 1), (0, 2), (1, 0), (1, 1), (1, 2), (2, 0), (2, 1), (2, 2)])\n",
    "print(func1(0)==[])"
   ]
  },
  {
   "cell_type": "code",
   "execution_count": 30,
   "id": "5e018a87",
   "metadata": {},
   "outputs": [
    {
     "name": "stdout",
     "output_type": "stream",
     "text": [
      "True\n",
      "True\n"
     ]
    }
   ],
   "source": [
    "def func2(n):\n",
    "    \"\"\"wypisze tylko takie pary dla których x < y\"\"\"\n",
    "    return [(x,y) for x in range(n) for y in range(n) if x < y]\n",
    "    \n",
    "    pass\n",
    "\n",
    "\n",
    "print(func2(3)==[(0, 1), (0, 2), (1, 2)])\n",
    "print(func2(4)==[(0, 1), (0, 2), (0, 3), (1, 2), (1, 3), (2, 3)])"
   ]
  },
  {
   "cell_type": "code",
   "execution_count": 31,
   "id": "eb7fe180",
   "metadata": {},
   "outputs": [
    {
     "name": "stdout",
     "output_type": "stream",
     "text": [
      "True\n",
      "True\n"
     ]
    }
   ],
   "source": [
    "def func3(n):\n",
    "    \"\"\"wypisze tylko takie pary dla których x > y\"\"\"\n",
    "    return [(x,y) for x in range(n) for y in range(n) if x > y]\n",
    "    \n",
    "    pass\n",
    "\n",
    "\n",
    "print(func3(3)==[(1, 0), (2, 0), (2, 1)])\n",
    "print(func3(4)==[(1, 0), (2, 0), (2, 1), (3, 0), (3, 1), (3, 2)])"
   ]
  },
  {
   "cell_type": "code",
   "execution_count": 32,
   "id": "fce20d1b",
   "metadata": {},
   "outputs": [
    {
     "name": "stdout",
     "output_type": "stream",
     "text": [
      "True\n",
      "True\n",
      "True\n"
     ]
    }
   ],
   "source": [
    "#Zadanie 7\n",
    "\n",
    "def powerset(x):\n",
    "    result = [[]]\n",
    "    for elem in x:\n",
    "        new = [lista + [elem] for lista in result]\n",
    "        result.extend(new)\n",
    "    return result\n",
    "\n",
    "print(powerset('abc')==[[], ['a'], ['b'], ['a', 'b'], ['c'], ['a', 'c'], ['b', 'c'], ['a', 'b', 'c']])\n",
    "print(powerset([1, 2, 3])==[[], [1], [2], [1, 2], [3], [1, 3], [2, 3], [1, 2, 3]])\n",
    "print(powerset(['abc', 5, 6])==[[], ['abc'], [5], ['abc', 5], [6], ['abc', 6], [5, 6], ['abc', 5, 6]])"
   ]
  },
  {
   "cell_type": "code",
   "execution_count": 33,
   "id": "b21d2adf",
   "metadata": {},
   "outputs": [],
   "source": [
    "#Zadanie 8\n",
    "\n",
    "#na potrzeby funkcji\n",
    "def is_prime(n, i=2):\n",
    "    if n < 2:\n",
    "        return False\n",
    "    if i * i > n:\n",
    "        return True\n",
    "    if n % i == 0:\n",
    "        return False\n",
    "    return is_prime(n, i + 1)"
   ]
  },
  {
   "cell_type": "code",
   "execution_count": 34,
   "id": "1143be34",
   "metadata": {},
   "outputs": [
    {
     "name": "stdout",
     "output_type": "stream",
     "text": [
      "False\n",
      "True\n"
     ]
    }
   ],
   "source": [
    "print(is_prime(4))\n",
    "print(is_prime(13))"
   ]
  },
  {
   "cell_type": "code",
   "execution_count": 35,
   "id": "609f49ec",
   "metadata": {},
   "outputs": [
    {
     "name": "stdout",
     "output_type": "stream",
     "text": [
      "True\n",
      "True\n",
      "True\n"
     ]
    }
   ],
   "source": [
    "def primes_extra_b(N):\n",
    "    \"\"\"Zwraca zbiór liczb pierwszych od 0 do N włącznie\"\"\"\n",
    "    #rekurencja\n",
    "    if N == 0:\n",
    "        return set()\n",
    "    elif is_prime(N):\n",
    "        return primes_extra_b(N - 1).union({N})\n",
    "    else:\n",
    "        return primes_extra_b(N - 1)\n",
    "\n",
    "    pass\n",
    "\n",
    "print(primes_extra_b(5) == {2, 3, 5})\n",
    "print(primes_extra_b(10) == {2, 3, 5, 7})\n",
    "print(primes_extra_b(100) == {2, 3, 5, 7, 11, 13, 17, 19, 23, 29, 31, 37, 41, 43, 47, 53, 59, 61, 67, 71, 73, 79, 83, 89, 97})\n",
    " "
   ]
  }
 ],
 "metadata": {
  "kernelspec": {
   "display_name": "Python 3 (ipykernel)",
   "language": "python",
   "name": "python3"
  },
  "language_info": {
   "codemirror_mode": {
    "name": "ipython",
    "version": 3
   },
   "file_extension": ".py",
   "mimetype": "text/x-python",
   "name": "python",
   "nbconvert_exporter": "python",
   "pygments_lexer": "ipython3",
   "version": "3.9.13"
  }
 },
 "nbformat": 4,
 "nbformat_minor": 5
}
